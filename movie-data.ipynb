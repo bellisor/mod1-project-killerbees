{
 "cells": [
  {
   "cell_type": "code",
   "execution_count": 1,
   "metadata": {},
   "outputs": [],
   "source": [
    "import pandas as pd\n",
    "import numpy as np\n",
    "import json\n",
    "import requests"
   ]
  },
  {
   "cell_type": "code",
   "execution_count": null,
   "metadata": {},
   "outputs": [],
   "source": [
    "#Create a total results list\n",
    "total_results =[]\n",
    "\n",
    "\n",
    "#This loop will iterate through all 500 pages of the TMDB API. \n",
    "#Each iteration it will extract the JSON object from each page and append it into total results\n",
    "for page_num in range(1, 501):\n",
    "    url = 'https://api.themoviedb.org/3/discover/movie?api_key=bd54255760b7c9a9eb0d294603c9610e&language=en-US&region=US&sort_by=original_title.desc&include_adult=false&include_video=false&page='+str(page_num)\n",
    "    print(\"Downloading\", url)\n",
    "    response = requests.get(url)\n",
    "    data = response.json()\n",
    "    total_results = total_results + data['results']\n",
    "    \n",
    "print(\"We have\", len(total_results), \"total results\")\n"
   ]
  }
 ],
 "metadata": {
  "kernelspec": {
   "display_name": "Python 3",
   "language": "python",
   "name": "python3"
  },
  "language_info": {
   "codemirror_mode": {
    "name": "ipython",
    "version": 3
   },
   "file_extension": ".py",
   "mimetype": "text/x-python",
   "name": "python",
   "nbconvert_exporter": "python",
   "pygments_lexer": "ipython3",
   "version": "3.7.4"
  }
 },
 "nbformat": 4,
 "nbformat_minor": 2
}
